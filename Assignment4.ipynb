import pandas as pd 
import numpy as np
import matplotlib.pyplot as plt

%matplotlib notebook

plt.style.use('seaborn-colorblind')

Snowfall = pd.read_csv('UNdata_Snowfall.csv')
Snowfall.head()
Temperature = pd.read_excel('Temp_1961_1990.xls')
Temperature.head()

Rainfall = pd.read_excel('Rain_1961_1990.xls')
Rainfall.head()

Weather = pd.DataFrame({'Snowfall': [Jan, Feb, Mar, Apr, May, Jun, Jul, Aug, Sep, Oct, Nov, Dec]})
Weather

Monthly_Temp = Temperature.groupby(' Month').mean()['tas']
Jan = Monthly_Temp.iloc[0]
Feb = Monthly_Temp.iloc[1]
Mar = Monthly_Temp.iloc[2]
Apr = Monthly_Temp.iloc[3]
May = Monthly_Temp.iloc[4]
Jun = Monthly_Temp.iloc[5]
Jul = Monthly_Temp.iloc[6]
Aug = Monthly_Temp.iloc[7]
Sep = Monthly_Temp.iloc[8]
Oct = Monthly_Temp.iloc[9]
Nov = Monthly_Temp.iloc[10]
Dec = Monthly_Temp.iloc[11]
Weather['Temperature'] = [Jan, Feb, Mar, Apr, May, Jun, Jul, Aug, Sep, Oct, Nov, Dec]
Weather
Monthly_Rain = Rainfall.groupby(' Month').mean()['pr']
Monthly_Rain.iloc[0]
Jan = Monthly_Rain.iloc[0]
Feb = Monthly_Rain.iloc[1]
Mar = Monthly_Rain.iloc[2]
Apr = Monthly_Rain.iloc[3]
May = Monthly_Rain.iloc[4]
Jun = Monthly_Rain.iloc[5]
Jul = Monthly_Rain.iloc[6]
Aug = Monthly_Rain.iloc[7]
Sep = Monthly_Rain.iloc[8]
Oct = Monthly_Rain.iloc[9]
Nov = Monthly_Rain.iloc[10]
Dec = Monthly_Rain.iloc[11]
Weather['Rainfall'] = [Jan, Feb, Mar, Apr, May, Jun, Jul, Aug, Sep, Oct, Nov, Dec]
Weather

Weather['Snowfall'] = Weather['Snowfall']/1000
Weather
Weather.index = ['Jan', 'Feb', 'Mar', 'Apr', 'May', 'Jun', 'Jul', 'Aug', 'Sep', 'Oct', 'Nov', 'Dec']
Weather
x = Weather.index.tolist()
y1 = Weather['Snowfall'].tolist()
y2 = Weather['Temperature'].tolist()
y3 = Weather['Rainfall'].tolist()

plt.plot(x, y1, '-s', label = "Snowfall (in 0.1*m)")
plt.plot(x, y2, '-*', label = "Temperature (in $\,^{\circ}\mathrm{C}$)")
plt.plot(x, y3, '-o', label = "Rainfall (in 0.1*cm)")

plt.title('Average Temperature, Snowfall and Rainfall in United States(1961-1990)')
 
plt.legend(frameon=False)
[plt.gca().spines[loc].set_visible(False) for loc in ['top', 'right']]

plt.show()
